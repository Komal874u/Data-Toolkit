{
 "cells": [
  {
   "cell_type": "markdown",
   "id": "099acb66-6654-45d3-9bcd-3fd6ad7509e0",
   "metadata": {},
   "source": [
    "**Theoretical queations**"
   ]
  },
  {
   "cell_type": "markdown",
   "id": "3fbc7180-c570-4408-a562-6df6887352e5",
   "metadata": {},
   "source": [
    "# 1. What is NumPy, and why is it widely used in Python?  \n",
    "ANS:  \n",
    "NumPy (Numerical Python) is a library in Python used to work with arrays and perform fast mathematical operations.\n",
    "- Why used:  \n",
    "Fast and memory efficient  \n",
    "Supports multi-dimensional arrays  \n",
    "Has many functions for math, linear algebra, statistics, etc.\n",
    "- Example:  \n",
    "import numpy as np  \n",
    "arr = np.array([1, 2, 3])  \n",
    "print(arr * 2)  # Output: [2 4 6]"
   ]
  },
  {
   "cell_type": "markdown",
   "id": "70bd3c78-4b08-4656-804a-32f7cbad0b71",
   "metadata": {},
   "source": [
    "# 2. How does broadcasting work in NumPy?  \n",
    "ANS:  \n",
    "Broadcasting lets NumPy perform operations on arrays of different shapes.\n",
    "- Example:  \n",
    "a = np.array([1, 2, 3])  \n",
    "b = 2  \n",
    "print(a + b)  # Output: [3 4 5]  \n",
    "Here, b is broadcasted to [2, 2, 2] automatically."
   ]
  },
  {
   "cell_type": "markdown",
   "id": "d697a499-537e-43e4-9bae-6e2ef7b20319",
   "metadata": {},
   "source": [
    "# 3. What is a Pandas DataFrame?\n",
    "ANS:  \n",
    "A DataFrame is like an Excel table — it has rows and columns.\n",
    "- Example:  \n",
    "import pandas as pd  \n",
    "data = {'Name': ['A', 'B'], 'Marks': [80, 90]}  \n",
    "df = pd.DataFrame(data)  \n",
    "print(df)"
   ]
  },
  {
   "cell_type": "markdown",
   "id": "0e0d5b78-e0c8-4fb0-b1de-d199030b7f38",
   "metadata": {},
   "source": [
    "# 4. Explain the use of the groupby() method in Pandas\n",
    "ANS:  \n",
    "groupby() is used to group rows based on a column and perform calculations.\n",
    "- Example:  \n",
    "df = pd.DataFrame({'Dept': ['IT', 'IT', 'HR'], 'Salary': [5000, 6000, 4000]})  \n",
    "print(df.groupby('Dept').mean())"
   ]
  },
  {
   "cell_type": "markdown",
   "id": "0e9df5d8-3703-4c51-966a-b62c28300efb",
   "metadata": {},
   "source": [
    "# 5. Why is Seaborn preferred for statistical visualizations?\n",
    "ANS:  \n",
    "Seaborn is preferred because it makes statistical graphs easier, better looking, and more powerful.\n",
    "-  Reasons:  \n",
    "Built-in themes – graphs look clean and professional.  \n",
    "Easier syntax – less code than Matplotlib.    \n",
    "Statistical plots ready-made – like boxplot, violinplot, heatmap.  \n",
    "Works well with Pandas – just give DataFrame directly.  \n",
    "Color control – smart default colors.\n"
   ]
  },
  {
   "cell_type": "markdown",
   "id": "bfb7d033-1184-4df3-b991-02c1c8b4f41f",
   "metadata": {},
   "source": [
    "# 6.What are the Differences between NumPy arrays and Python lists\n",
    "ANS:\n",
    "| Feature      | NumPy Array    | Python List         |\n",
    "| ------------ | -------------- | ------------------- |\n",
    "| Speed        | Fast           | Slow                |\n",
    "| Data type    | Same type only | Mixed types allowed |\n",
    "| Memory usage | Less           | More                |\n",
    "| Operations   | Vectorized     | Loop needed         |\n"
   ]
  },
  {
   "cell_type": "markdown",
   "id": "6c66e421-b922-470c-aee2-2bf814e28ad2",
   "metadata": {},
   "source": [
    "# 7. What is a heatmap, and when should it be used?\n",
    "ANS:\n",
    "A heatmap is a colored grid used to show values or relationships.\n",
    "- Use when:  \n",
    "You want to see patterns  \n",
    "Show correlation between variables\n",
    "- example:  \n",
    "import seaborn as sns  \n",
    "import pandas as pd  \n",
    "data = pd.DataFrame([[1,2],[3,4]])  \n",
    "sns.heatmap(data, annot=True)"
   ]
  },
  {
   "cell_type": "markdown",
   "id": "d891de89-8f0c-4aa1-9cc7-5526f2f81886",
   "metadata": {},
   "source": [
    "# 8. What does the team “vectorized operation” mean in NumPy?\n",
    "ANS:  \n",
    "It means applying operations without loops, directly on arrays.\n",
    "- Example:  \n",
    "a = np.array([1, 2, 3])  \n",
    "print(a * 3)  # Output: [3 6 9]"
   ]
  },
  {
   "cell_type": "markdown",
   "id": "49721c1e-c1d3-4afd-afad-88b0c112900d",
   "metadata": {},
   "source": [
    "# 9. How does Matplotlib differ from Plotly?\n",
    "ANS:\n",
    "| Feature | Matplotlib      | Plotly       |\n",
    "| ------- | --------------- | ------------ |\n",
    "| Type    | Static          | Interactive  |\n",
    "| Ease    | Manual settings | Easy + GUI   |\n",
    "| Web use | Not good        | Best for web |\n"
   ]
  },
  {
   "cell_type": "markdown",
   "id": "577554a9-5a9f-43b9-b9f5-cdb0f94ee1dd",
   "metadata": {},
   "source": [
    "# 10. What is the significance of hierarchical indexing in Pandas?\n",
    "ANS:  \n",
    "Hierarchical indexing (also called MultiIndex) means having more than one index level.\n",
    "It helps organize data in a nested way — like a table inside a table."
   ]
  },
  {
   "cell_type": "markdown",
   "id": "f1a2e5a6-fd91-47fd-ae83-2a0092560700",
   "metadata": {},
   "source": [
    "# 11. What is the role of Seaborn’s pairplot() function\n",
    "ANS:  \n",
    "Shows relationships between multiple columns in one go.\n",
    "\n",
    "- Example:  \n",
    "import seaborn as sns  \n",
    "df = sns.load_dataset('iris')  \n",
    "sns.pairplot(df, hue='species')"
   ]
  },
  {
   "cell_type": "markdown",
   "id": "1e1ddeef-1f56-4375-ad8f-615a9a027c40",
   "metadata": {},
   "source": [
    "# 12. What is the purpose of the describe() function in Pandas\n",
    "ANS:  \n",
    "Gives summary stats like mean, min, max, count, etc.\n",
    "- Example:  \n",
    "df = pd.DataFrame({'Marks': [10, 20, 30]})  \n",
    "print(df.describe())"
   ]
  },
  {
   "cell_type": "markdown",
   "id": "660d8cc7-6c1a-4f93-9975-987c40787d4f",
   "metadata": {},
   "source": [
    "# 13. Why is handling missing data important in Pandas?\n",
    "ANS:  \n",
    "Missing data can break your calculations. You need to fill or drop them.\n",
    "- Example:  \n",
    "df = pd.DataFrame({'A': [1, None, 3]})  \n",
    "df.fillna(0)  # Fills missing value with 0"
   ]
  },
  {
   "cell_type": "markdown",
   "id": "224a3434-20af-4919-b70a-091a9504d235",
   "metadata": {},
   "source": [
    "# 14.What are the benefits of using Plotly for data visualization\n",
    "\n",
    "ANS:  \n",
    "- Interactive plots\n",
    "\n",
    "- Good for dashboards\n",
    "\n",
    "- Easy export to web"
   ]
  },
  {
   "cell_type": "markdown",
   "id": "94df12ed-3132-46a4-85fe-14b18d88075d",
   "metadata": {},
   "source": [
    "# 15. How does NumPy handle multidimensional arrays?\n",
    "ANS:  \n",
    "NumPy supports arrays of 1D, 2D, 3D, etc.\n",
    "- Example:  \n",
    "arr = np.array([[1, 2], [3, 4]])  \n",
    "print(arr.shape)  # Output: (2, 2)"
   ]
  },
  {
   "cell_type": "markdown",
   "id": "9a6d9dac-f6b8-4a67-a1c3-d059d4e63ef2",
   "metadata": {},
   "source": [
    "# 16.What is the Role of Bokeh in data visualization\n",
    "ANS:  \n",
    "Bokeh is a Python library used to make interactive, web-based visualizations.\n",
    "\n",
    "- Main roles of Bokeh:  \n",
    "Interactive graphs  \n",
    "Zoom, pan, tooltips, sliders — directly in the browser.\n",
    "\n",
    "- Web-ready plots  \n",
    "Can be easily added to web pages or dashboards.\n",
    "\n",
    "- Widgets for control  \n",
    "Buttons, sliders, dropdowns to control your chart live.\n",
    "\n",
    "- Streaming & real-time data  \n",
    "Supports live data updates."
   ]
  },
  {
   "cell_type": "markdown",
   "id": "c567f1c4-3381-432c-83b9-8211bb65dcff",
   "metadata": {},
   "source": [
    "# 17.Explain the Difference between apply() and map() in Pandas\n",
    "ANS:\n",
    "| Feature    | `map()`                | `apply()`                         |\n",
    "| ---------- | ---------------------- | --------------------------------- |\n",
    "| Used on    | Series (one column)    | Series **or** DataFrame           |\n",
    "| Works with | Function, dict, Series | Function only                     |\n",
    "| Use case   | Element-wise operation | Row-wise or column-wise operation |\n"
   ]
  },
  {
   "cell_type": "markdown",
   "id": "ecec1cad-a8c6-4db1-8019-ded2a91bf6b4",
   "metadata": {},
   "source": [
    "# 18. What are Some advanced features of NumPy\n",
    "ANS:  \n",
    "- Linear algebra (np.linalg)  \n",
    "- Random numbers (np.random)  \n",
    "- Fourier transforms (np.fft)  \n",
    "- Broadcasting  \n",
    "- Vectorization"
   ]
  },
  {
   "cell_type": "markdown",
   "id": "bf441b2e-4478-4f8c-96c9-77dc168d3a55",
   "metadata": {},
   "source": [
    "# 19. How does Pandas simplify time series analysis?\n",
    "ANS:  \n",
    "Easy date handling  \n",
    "Resampling  \n",
    "Date indexing  \n",
    "Pandas makes working with dates and time very easy and powerful.\n",
    "- Example:  \n",
    "date_rng = pd.date_range(start='2023-01-01', periods=5, freq='D')  \n",
    "df = pd.DataFrame({'date': date_rng, 'value': [1,2,3,4,5]})  \n",
    "df.set_index('date', inplace=True)  \n",
    "print(df.resample('2D').sum())"
   ]
  },
  {
   "cell_type": "markdown",
   "id": "80677770-0ffb-482a-ab68-78e23f5fad73",
   "metadata": {},
   "source": [
    "# 20. What is the Role of pivot table in Pandas\n",
    "ANS:  \n",
    "Pivot table summarizes data using group and aggregation.\n",
    "- Example:  \n",
    "df = pd.DataFrame({  \n",
    "    'Name': ['A', 'B', 'A'],  \n",
    "    'Score': [10, 20, 30]  \n",
    "})  \n",
    "print(df.pivot_table(values='Score', index='Name', aggfunc='sum'))"
   ]
  },
  {
   "cell_type": "markdown",
   "id": "529657f9-dc77-4a74-955f-f3a044b29068",
   "metadata": {},
   "source": [
    "# 21. Why is NumPy’s array slicing faster than Python’s list slicing?\n",
    "ANS:  \n",
    "NumPy arrays use C-level memory, while Python lists are objects → slower."
   ]
  },
  {
   "cell_type": "markdown",
   "id": "bcca57a8-bb71-42ff-82c9-3cb0bb634ef2",
   "metadata": {},
   "source": [
    "# 22.What are the Common use cases for Seaborn\n",
    "ANS:  \n",
    "- Correlation heatmaps\n",
    "- Boxplots, Violin plots\n",
    "- Pairwise comparisons\n",
    "- Distribution plots (distplot)\n",
    "- Regression plots (regplot)"
   ]
  },
  {
   "cell_type": "markdown",
   "id": "3b17de9b-0535-4463-8772-2e30ea9128c2",
   "metadata": {},
   "source": [
    "**Practical queastion:**"
   ]
  },
  {
   "cell_type": "code",
   "execution_count": 3,
   "id": "93f9c4ff-9ac4-451b-8c7a-3fcb77877856",
   "metadata": {},
   "outputs": [
    {
     "name": "stdout",
     "output_type": "stream",
     "text": [
      "Row sums: [ 3  7 11]\n"
     ]
    }
   ],
   "source": [
    "# 1.How do you create a 2D NumPy array and calculate the sum of each row\n",
    " import numpy as np\n",
    "arr = np.array([[1, 2], [3, 4], [5, 6]])\n",
    "row_sums = arr.sum(axis=1)\n",
    "print(\"Row sums:\", row_sums)"
   ]
  },
  {
   "cell_type": "code",
   "execution_count": 9,
   "id": "9dbfa4bd-83c0-4286-bc61-4a133ae22835",
   "metadata": {},
   "outputs": [
    {
     "name": "stdout",
     "output_type": "stream",
     "text": [
      "Mean of column B: 15.0\n"
     ]
    }
   ],
   "source": [
    "# 2. Write a Pandas script to find the mean of a specific column in a DataFrame\n",
    "import pandas as pd\n",
    "\n",
    "data = {'A': [10, 20, 30], 'B': [5, 15, 25]}\n",
    "df = pd.DataFrame(data)\n",
    "mean_B = df['B'].mean()\n",
    "print(\"Mean of column B:\", mean_B)"
   ]
  },
  {
   "cell_type": "code",
   "execution_count": 11,
   "id": "34a032e7-078e-4c74-a54c-51a8b28af2d8",
   "metadata": {},
   "outputs": [
    {
     "data": {
      "image/png": "[encoded data removed]",
      "text/plain": [
       "<Figure size 640x480 with 1 Axes>"
      ]
     },
     "metadata": {},
     "output_type": "display_data"
    }
   ],
   "source": [
    "# 3.  Create a scatter plot using Matplotlib\n",
    " import matplotlib.pyplot as plt\n",
    "\n",
    "x = [1, 2, 3, 4]\n",
    "y = [10, 20, 25, 30]\n",
    "plt.scatter(x, y)\n",
    "plt.title(\"Scatter Plot\")\n",
    "plt.show()"
   ]
  },
  {
   "cell_type": "code",
   "execution_count": 16,
   "id": "bb3eba77-912f-43a6-8b34-64d96f4e1b8b",
   "metadata": {},
   "outputs": [
    {
     "data": {
      "image/png": "[encoded data removed]",
      "text/plain": [
       "<Figure size 640x480 with 2 Axes>"
      ]
     },
     "metadata": {},
     "output_type": "display_data"
    }
   ],
   "source": [
    "# 4. How do you calculate the correlation matrix using Seaborn and visualize it with a heatmap.\n",
    "import seaborn as sns\n",
    "import pandas as pd\n",
    "df = pd.DataFrame({'A': [1, 2, 3], 'B': [4, 5, 6], 'C': [7, 8, 9]})\n",
    "corr = df.corr()\n",
    "sns.heatmap(corr, annot=True, cmap='coolwarm')\n",
    "plt.title(\"Correlation Heatmap\")\n",
    "plt.show()"
   ]
  },
  {
   "cell_type": "code",
   "execution_count": 59,
   "id": "afdd8615-dd90-4e04-bea9-18cdc4307b5b",
   "metadata": {},
   "outputs": [
    {
     "data": {
      "image/png": "[encoded data removed]",
      "text/plain": [
       "<Figure size 640x480 with 1 Axes>"
      ]
     },
     "metadata": {},
     "output_type": "display_data"
    }
   ],
   "source": [
    "# 5.Generate a bar plot using Plotly\n",
    "\n",
    "import matplotlib.pyplot as plt\n",
    "\n",
    "fruits = ['Apple', 'Banana', 'Mango']\n",
    "counts = [10, 15, 7]\n",
    "\n",
    "plt.bar(fruits, counts)\n",
    "plt.title(\"Fruit Count\")\n",
    "plt.xlabel(\"Fruits\")\n",
    "plt.ylabel(\"Count\")\n",
    "plt.show()"
   ]
  },
  {
   "cell_type": "code",
   "execution_count": 20,
   "id": "c0477821-4df0-4010-8dd8-da546921de92",
   "metadata": {},
   "outputs": [
    {
     "name": "stdout",
     "output_type": "stream",
     "text": [
      "   Marks  Result\n",
      "0     40   False\n",
      "1     60    True\n",
      "2     80    True\n"
     ]
    }
   ],
   "source": [
    "# 6. Create a DataFrame and add a new column based on an existing column\n",
    "\n",
    "import pandas as pd\n",
    "\n",
    "df = pd.DataFrame({'Marks': [40, 60, 80]})\n",
    "df['Result'] = df['Marks'] > 50\n",
    "print(df)"
   ]
  },
  {
   "cell_type": "code",
   "execution_count": 22,
   "id": "9b7813f4-0229-4c17-bf11-9d350f0a4ae7",
   "metadata": {},
   "outputs": [
    {
     "name": "stdout",
     "output_type": "stream",
     "text": [
      "Element-wise multiplication: [ 4 10 18]\n"
     ]
    }
   ],
   "source": [
    "# 7.Write a program to perform element-wise multiplication of two NumPy arrays\n",
    "\n",
    "import numpy as np\n",
    "\n",
    "a = np.array([1, 2, 3])\n",
    "b = np.array([4, 5, 6])\n",
    "result = a * b\n",
    "print(\"Element-wise multiplication:\", result)"
   ]
  },
  {
   "cell_type": "code",
   "execution_count": 24,
   "id": "a27a7c4f-d453-41fd-97d2-8f403a0c32ce",
   "metadata": {},
   "outputs": [
    {
     "data": {
      "image/png": "[encoded data removed]",
      "text/plain": [
       "<Figure size 640x480 with 1 Axes>"
      ]
     },
     "metadata": {},
     "output_type": "display_data"
    }
   ],
   "source": [
    "#  8.Create a line plot with multiple lines using Matplotlib.\n",
    "\n",
    "import matplotlib.pyplot as plt\n",
    "\n",
    "x = [1, 2, 3, 4]\n",
    "y1 = [10, 20, 25, 30]\n",
    "y2 = [5, 15, 20, 25]\n",
    "plt.plot(x, y1, label='Line 1')\n",
    "plt.plot(x, y2, label='Line 2')\n",
    "plt.legend()\n",
    "plt.title(\"Multiple Line Plot\")\n",
    "plt.show()"
   ]
  },
  {
   "cell_type": "code",
   "execution_count": 26,
   "id": "6b11e862-0dee-4c0d-8acf-ef655176894e",
   "metadata": {},
   "outputs": [
    {
     "name": "stdout",
     "output_type": "stream",
     "text": [
      "   Age\n",
      "1   25\n",
      "2   30\n"
     ]
    }
   ],
   "source": [
    "# 9.Generate a Pandas DataFrame and filter rows where a column value is greater than a threshold\n",
    "import pandas as pd\n",
    "df = pd.DataFrame({'Age': [18, 25, 30, 15]})\n",
    "filtered_df = df[df['Age'] > 20]\n",
    "print(filtered_df)"
   ]
  },
  {
   "cell_type": "code",
   "execution_count": 28,
   "id": "a0bb5364-46ee-41ce-b28e-b1f5e08149cf",
   "metadata": {},
   "outputs": [
    {
     "data": {
      "image/png": "[encoded data removed]",
      "text/plain": [
       "<Figure size 640x480 with 1 Axes>"
      ]
     },
     "metadata": {},
     "output_type": "display_data"
    }
   ],
   "source": [
    "# 10.Create a histogram using Seaborn to visualize a distribution\n",
    "import seaborn as sns\n",
    "import matplotlib.pyplot as plt\n",
    "\n",
    "data = [10, 20, 20, 30, 40, 40, 40, 50]\n",
    "sns.histplot(data, bins=5)\n",
    "plt.title(\"Histogram\")\n",
    "plt.show()"
   ]
  },
  {
   "cell_type": "code",
   "execution_count": 30,
   "id": "9dd67106-9d44-41f3-a29c-9ed7b578fde5",
   "metadata": {},
   "outputs": [
    {
     "name": "stdout",
     "output_type": "stream",
     "text": [
      "Matrix multiplication:\n",
      " [[19 22]\n",
      " [43 50]]\n"
     ]
    }
   ],
   "source": [
    "# 11. Perform matrix multiplication using NumPy\n",
    "\n",
    "import numpy as np\n",
    "\n",
    "a = np.array([[1, 2], [3, 4]])\n",
    "b = np.array([[5, 6], [7, 8]])\n",
    "result = np.dot(a, b)\n",
    "print(\"Matrix multiplication:\\n\", result)"
   ]
  },
  {
   "cell_type": "code",
   "execution_count": 38,
   "id": "2f206433-6b81-44b4-bbab-7482cb0f4d20",
   "metadata": {},
   "outputs": [
    {
     "name": "stdout",
     "output_type": "stream",
     "text": [
      "Saved and loaded DataFrame:\n",
      "    Name  Age  Score\n",
      "0  Komal   21     85\n",
      "1  Rahul   22     90\n",
      "2  Priya   20     88\n",
      "3   Aman   23     76\n",
      "4  Sneha   22     92\n"
     ]
    }
   ],
   "source": [
    "# 12.  Use Pandas to load a CSV file and display its first 5 rows\n",
    "import pandas as pd\n",
    "\n",
    "# Create sample DataFrame\n",
    "data = {\n",
    "    'Name': ['Komal', 'Rahul', 'Priya', 'Aman', 'Sneha'],\n",
    "    'Age': [21, 22, 20, 23, 22],\n",
    "    'Score': [85, 90, 88, 76, 92]\n",
    "}\n",
    "df = pd.DataFrame(data)\n",
    "\n",
    "# Save to CSV\n",
    "df.to_csv('your_file.csv', index=False)\n",
    "\n",
    "# Load the same file\n",
    "df_loaded = pd.read_csv('your_file.csv')\n",
    "\n",
    "# Show the content\n",
    "print(\"Saved and loaded DataFrame:\")\n",
    "print(df_loaded)\n"
   ]
  },
  {
   "cell_type": "code",
   "execution_count": 5,
   "id": "36c31596-181f-4a60-9015-94d8468d4bf9",
   "metadata": {},
   "outputs": [],
   "source": [
    "# 13.Create a 3D scatter plot using Plotly.\n",
    "import pandas as pd\n",
    "import plotly.express as px\n",
    "\n",
    "# 1. Create data\n",
    "data = {\n",
    "    'x': [1, 2, 3, 4, 5],\n",
    "    'y': [10, 11, 12, 13, 14],\n",
    "    'z': [5, 6, 7, 8, 9],\n",
    "    'label': ['A', 'B', 'C', 'D', 'E']\n",
    "}\n",
    "df = pd.DataFrame(data)\n",
    "\n",
    "# 2. Make 3D plot\n",
    "fig = px.scatter_3d(df, x='x', y='y', z='z', text='label', title='3D Scatter Plot')\n",
    "\n",
    "# 3. Save as HTML\n",
    "fig.write_html(\"3d_plot.html\")\n",
    "\n"
   ]
  },
  {
   "cell_type": "markdown",
   "id": "d34cbea4-f17f-4a6c-9e14-369abb590740",
   "metadata": {},
   "source": [
    "[Click here to view 3D plot](3d_plot.html)\n"
   ]
  },
  {
   "cell_type": "code",
   "execution_count": null,
   "id": "4f450af0-fcfd-4780-bcdc-4e5f809f59c8",
   "metadata": {},
   "outputs": [],
   "source": []
  }
 ],
 "metadata": {
  "kernelspec": {
   "display_name": "Python [conda env:base] *",
   "language": "python",
   "name": "conda-base-py"
  },
  "language_info": {
   "codemirror_mode": {
    "name": "ipython",
    "version": 3
   },
   "file_extension": ".py",
   "mimetype": "text/x-python",
   "name": "python",
   "nbconvert_exporter": "python",
   "pygments_lexer": "ipython3",
   "version": "3.12.7"
  }
 },
 "nbformat": 4,
 "nbformat_minor": 5
}
